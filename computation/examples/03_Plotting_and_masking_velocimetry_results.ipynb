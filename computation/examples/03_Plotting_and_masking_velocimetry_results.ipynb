{
 "cells": [
  {
   "cell_type": "markdown",
   "id": "0",
   "metadata": {},
   "source": [
    "## Immersive plotting and analyzing results\n",
    "\n",
    "Lets do some analysis and plotting"
   ]
  },
  {
   "cell_type": "code",
   "execution_count": 1,
   "id": "1",
   "metadata": {},
   "outputs": [],
   "source": [
    "import xarray as xr\n",
    "import pyorc\n",
    "from matplotlib.colors import Normalize\n"
   ]
  },
  {
   "cell_type": "markdown",
   "id": "2",
   "metadata": {},
   "source": [
    "You have a result stored in a NetCDF file after running notebook 02. Now you want to see if the results seem to make sense, and further analyze these. Especially post-processing of your results with masking invalid velocities is an essential step in most velocimetry analyses, given that sometimes hardly any tracers are visible, and only spuriously correlated results were found. With some intelligence these suspicious velocities can be removed, and `pyorc` has many methods available to do that. Most of these can be applied without any parameter changes for a good result. The order in which mask methods are applied can matter, which we will describe later in this notebook.\n",
    "\n",
    "Let's first have a look at the file structure. We can simply use the `xarray` API to open the result file."
   ]
  },
  {
   "cell_type": "code",
   "execution_count": 2,
   "id": "3",
   "metadata": {},
   "outputs": [],
   "source": [
    "ds = xr.open_dataset(\"ngwerere/ngwerere_piv.nc\")\n"
   ]
  },
  {
   "cell_type": "markdown",
   "id": "4",
   "metadata": {},
   "source": [
    "As you can see, we have lots of coordinate variables at our disposal, these can be used in turn to plot our data in a local projection, with our bounding box top-left corner at the top-left. The `x` and `y` axes hold the local coordinates. We can also use the UTM35S coordinates, stored in `xs` and `ys`, the longitude and latitude coordinates stored in `lon` and `lat`, or....(very cool) the original row and column coordinate of the camera's objective. This allows us to plot the results as an augmented reality view.\n",
    "\n",
    "In the data variables, we see `v_x` and `v_y` for the x-directional and y-directional velocity, measured along the `x` and `y` axis of the local coordinate system. Furthermore we see the `s2n` variable containing the signal to noise ratio computed by the underlying used library OpenPIV. This ratio is computed as the ratio between the highest correlation and the second highest correlation found in the surroundings of each window. If this ratio is very low it means that it is difficult to assess which correlation value is the best. We also store the highest correlation found in the variable `corr`. As this is done for each frame to frame pair, the dataset contains 125 time steps, since we extract 126 frames.\n",
    "\n",
    "Because we used a 0.01 resolution and a 25 pixel interrogation window, and `pyorc` typically uses an overlap between windows of 50%, the `y` and `x` coordinates have a spacing of `25 * 0.01 * 0.5 = 0.125 cm` (rounded to 0.13).\n",
    "\n",
    "Finally, a lot of attributes are stored in a serializable form, so that the dataset can be stored in NetCDF, and the camera configuration and other information needed can be used by our postprocessing and plotting methods after loading. Normally, you don't have to worry about all these details and simply use the methods in `pyorc` to deal with them.\n"
   ]
  },
  {
   "cell_type": "markdown",
   "id": "5",
   "metadata": {},
   "source": [
    "### Plotting in local projection\n",
    "Both a frames `DataArray` and a velocimetry `Dataset` have plotting functionalities that can be used to combine information into a plot. The default is to plot data in the local projection that follows the area of interest bounding box, but geographical plots or camera perspectives can also be plotted. Let's start with an rgb frame with the PIV results on top. We cannot plot the time dimension, so we apply a `mean` reducer first. To prevent that all metadata of the variables gets lost in this process, the `keep_attrs=True` flag is applied.\n",
    "\n",
    "Note that whilst plotting velocimetry results, we can supply `kwargs_scalar` and `kwargs_quiver`. These are meant to pass arguments to plotting of the scalar velocity values (plotted as a mesh) and the vectors (plotted as arrows)."
   ]
  },
  {
   "cell_type": "code",
   "execution_count": 3,
   "id": "6",
   "metadata": {},
   "outputs": [
    {
     "name": "stderr",
     "output_type": "stream",
     "text": [
      "Scanning video: 100%|██████████| 126/126 [00:05<00:00, 21.08it/s]\n"
     ]
    },
    {
     "ename": "MemoryError",
     "evalue": "Unable to allocate 314. MiB for an array with shape (20, 3, 785, 875) and data type float64",
     "output_type": "error",
     "traceback": [
      "\u001b[31m---------------------------------------------------------------------------\u001b[39m",
      "\u001b[31mMemoryError\u001b[39m                               Traceback (most recent call last)",
      "\u001b[36mCell\u001b[39m\u001b[36m \u001b[39m\u001b[32mIn[3]\u001b[39m\u001b[32m, line 12\u001b[39m\n\u001b[32m     10\u001b[39m da_rgb_proj = da_rgb.frames.project()\n\u001b[32m     11\u001b[39m \u001b[38;5;66;03m# plot the first frame (we only have one) without any arguments, default is to use \"local\" mode\u001b[39;00m\n\u001b[32m---> \u001b[39m\u001b[32m12\u001b[39m p = \u001b[43mda_rgb_proj\u001b[49m\u001b[43m[\u001b[49m\u001b[32;43m0\u001b[39;49m\u001b[43m]\u001b[49m\u001b[43m.\u001b[49m\u001b[43mframes\u001b[49m\u001b[43m.\u001b[49m\u001b[43mplot\u001b[49m\u001b[43m(\u001b[49m\u001b[43m)\u001b[49m\n\u001b[32m     14\u001b[39m \u001b[38;5;66;03m# now plot the results on top, we use the mean, because we cannot plot more than 2 dimensions. \u001b[39;00m\n\u001b[32m     15\u001b[39m \u001b[38;5;66;03m# Default plotting method is \"quiver\", but \"scatter\" or \"pcolormesh\" is also possible.\u001b[39;00m\n\u001b[32m     16\u001b[39m \u001b[38;5;66;03m# We add a nice colorbar to understand the magnitudes.\u001b[39;00m\n\u001b[32m     17\u001b[39m \u001b[38;5;66;03m# We give the existing axis handle of the mappable returned from .frames.plot to plot on, and use \u001b[39;00m\n\u001b[32m     18\u001b[39m \u001b[38;5;66;03m# some transparency.\u001b[39;00m\n\u001b[32m     19\u001b[39m ds_mean = ds.mean(dim=\u001b[33m\"\u001b[39m\u001b[33mtime\u001b[39m\u001b[33m\"\u001b[39m, keep_attrs=\u001b[38;5;28;01mTrue\u001b[39;00m)\n",
      "\u001b[36mFile \u001b[39m\u001b[32mc:\\Users\\dhaba\\anaconda3\\envs\\cwprs\\Lib\\site-packages\\pyorc\\api\\plot.py:284\u001b[39m, in \u001b[36m_frames_plot\u001b[39m\u001b[34m(ref, ax, mode, **kwargs)\u001b[39m\n\u001b[32m    281\u001b[39m \u001b[38;5;28;01massert\u001b[39;00m \u001b[38;5;28mall\u001b[39m(v \u001b[38;5;129;01min\u001b[39;00m ref._obj.coords \u001b[38;5;28;01mfor\u001b[39;00m v \u001b[38;5;129;01min\u001b[39;00m [x, y]), \u001b[33mf\u001b[39m\u001b[33m'\u001b[39m\u001b[33mrequired coordinates \u001b[39m\u001b[33m\"\u001b[39m\u001b[38;5;132;01m{\u001b[39;00mx\u001b[38;5;132;01m}\u001b[39;00m\u001b[33m\"\u001b[39m\u001b[33m and/or \u001b[39m\u001b[33m\"\u001b[39m\u001b[38;5;132;01m{\u001b[39;00my\u001b[38;5;132;01m}\u001b[39;00m\u001b[33m\"\u001b[39m\u001b[33m are not available\u001b[39m\u001b[33m'\u001b[39m\n\u001b[32m    282\u001b[39m \u001b[38;5;28;01mif\u001b[39;00m \u001b[38;5;28mlen\u001b[39m(ref._obj.shape) == \u001b[32m3\u001b[39m \u001b[38;5;129;01mand\u001b[39;00m ref._obj.shape[-\u001b[32m1\u001b[39m] == \u001b[32m3\u001b[39m:\n\u001b[32m    283\u001b[39m     \u001b[38;5;66;03m# looking at an rgb image\u001b[39;00m\n\u001b[32m--> \u001b[39m\u001b[32m284\u001b[39m     facecolors = \u001b[43mref\u001b[49m\u001b[43m.\u001b[49m\u001b[43m_obj\u001b[49m\u001b[43m.\u001b[49m\u001b[43mvalues\u001b[49m.reshape(ref._obj.shape[\u001b[32m0\u001b[39m] * ref._obj.shape[\u001b[32m1\u001b[39m], \u001b[32m3\u001b[39m) / \u001b[32m255\u001b[39m\n\u001b[32m    285\u001b[39m     facecolors = np.hstack([facecolors, np.ones((\u001b[38;5;28mlen\u001b[39m(facecolors), \u001b[32m1\u001b[39m))])\n\u001b[32m    286\u001b[39m     primitive = ax.pcolormesh(\n\u001b[32m    287\u001b[39m         ref._obj[x],\n\u001b[32m    288\u001b[39m         ref._obj[y],\n\u001b[32m   (...)\u001b[39m\u001b[32m    292\u001b[39m         **kwargs,\n\u001b[32m    293\u001b[39m     )\n",
      "\u001b[36mFile \u001b[39m\u001b[32mc:\\Users\\dhaba\\anaconda3\\envs\\cwprs\\Lib\\site-packages\\xarray\\core\\dataarray.py:797\u001b[39m, in \u001b[36mDataArray.values\u001b[39m\u001b[34m(self)\u001b[39m\n\u001b[32m    784\u001b[39m \u001b[38;5;129m@property\u001b[39m\n\u001b[32m    785\u001b[39m \u001b[38;5;28;01mdef\u001b[39;00m\u001b[38;5;250m \u001b[39m\u001b[34mvalues\u001b[39m(\u001b[38;5;28mself\u001b[39m) -> np.ndarray:\n\u001b[32m    786\u001b[39m \u001b[38;5;250m    \u001b[39m\u001b[33;03m\"\"\"\u001b[39;00m\n\u001b[32m    787\u001b[39m \u001b[33;03m    The array's data converted to numpy.ndarray.\u001b[39;00m\n\u001b[32m    788\u001b[39m \n\u001b[32m   (...)\u001b[39m\u001b[32m    795\u001b[39m \u001b[33;03m    to this array may be reflected in the DataArray as well.\u001b[39;00m\n\u001b[32m    796\u001b[39m \u001b[33;03m    \"\"\"\u001b[39;00m\n\u001b[32m--> \u001b[39m\u001b[32m797\u001b[39m     \u001b[38;5;28;01mreturn\u001b[39;00m \u001b[38;5;28;43mself\u001b[39;49m\u001b[43m.\u001b[49m\u001b[43mvariable\u001b[49m\u001b[43m.\u001b[49m\u001b[43mvalues\u001b[49m\n",
      "\u001b[36mFile \u001b[39m\u001b[32mc:\\Users\\dhaba\\anaconda3\\envs\\cwprs\\Lib\\site-packages\\xarray\\core\\variable.py:530\u001b[39m, in \u001b[36mVariable.values\u001b[39m\u001b[34m(self)\u001b[39m\n\u001b[32m    527\u001b[39m \u001b[38;5;129m@property\u001b[39m\n\u001b[32m    528\u001b[39m \u001b[38;5;28;01mdef\u001b[39;00m\u001b[38;5;250m \u001b[39m\u001b[34mvalues\u001b[39m(\u001b[38;5;28mself\u001b[39m) -> np.ndarray:\n\u001b[32m    529\u001b[39m \u001b[38;5;250m    \u001b[39m\u001b[33;03m\"\"\"The variable's data as a numpy.ndarray\"\"\"\u001b[39;00m\n\u001b[32m--> \u001b[39m\u001b[32m530\u001b[39m     \u001b[38;5;28;01mreturn\u001b[39;00m \u001b[43m_as_array_or_item\u001b[49m\u001b[43m(\u001b[49m\u001b[38;5;28;43mself\u001b[39;49m\u001b[43m.\u001b[49m\u001b[43m_data\u001b[49m\u001b[43m)\u001b[49m\n",
      "\u001b[36mFile \u001b[39m\u001b[32mc:\\Users\\dhaba\\anaconda3\\envs\\cwprs\\Lib\\site-packages\\xarray\\core\\variable.py:315\u001b[39m, in \u001b[36m_as_array_or_item\u001b[39m\u001b[34m(data)\u001b[39m\n\u001b[32m    301\u001b[39m \u001b[38;5;28;01mdef\u001b[39;00m\u001b[38;5;250m \u001b[39m\u001b[34m_as_array_or_item\u001b[39m(data):\n\u001b[32m    302\u001b[39m \u001b[38;5;250m    \u001b[39m\u001b[33;03m\"\"\"Return the given values as a numpy array, or as an individual item if\u001b[39;00m\n\u001b[32m    303\u001b[39m \u001b[33;03m    it's a 0d datetime64 or timedelta64 array.\u001b[39;00m\n\u001b[32m    304\u001b[39m \n\u001b[32m   (...)\u001b[39m\u001b[32m    313\u001b[39m \u001b[33;03m    TODO: remove this (replace with np.asarray) once these issues are fixed\u001b[39;00m\n\u001b[32m    314\u001b[39m \u001b[33;03m    \"\"\"\u001b[39;00m\n\u001b[32m--> \u001b[39m\u001b[32m315\u001b[39m     data = \u001b[43mnp\u001b[49m\u001b[43m.\u001b[49m\u001b[43masarray\u001b[49m\u001b[43m(\u001b[49m\u001b[43mdata\u001b[49m\u001b[43m)\u001b[49m\n\u001b[32m    316\u001b[39m     \u001b[38;5;28;01mif\u001b[39;00m data.ndim == \u001b[32m0\u001b[39m:\n\u001b[32m    317\u001b[39m         kind = data.dtype.kind\n",
      "\u001b[36mFile \u001b[39m\u001b[32mc:\\Users\\dhaba\\anaconda3\\envs\\cwprs\\Lib\\site-packages\\dask\\array\\core.py:1724\u001b[39m, in \u001b[36mArray.__array__\u001b[39m\u001b[34m(self, dtype, copy, **kwargs)\u001b[39m\n\u001b[32m   1717\u001b[39m \u001b[38;5;28;01mif\u001b[39;00m copy \u001b[38;5;129;01mis\u001b[39;00m \u001b[38;5;28;01mFalse\u001b[39;00m:\n\u001b[32m   1718\u001b[39m     warnings.warn(\n\u001b[32m   1719\u001b[39m         \u001b[33m\"\u001b[39m\u001b[33mCan\u001b[39m\u001b[33m'\u001b[39m\u001b[33mt acquire a memory view of a Dask array. \u001b[39m\u001b[33m\"\u001b[39m\n\u001b[32m   1720\u001b[39m         \u001b[33m\"\u001b[39m\u001b[33mThis will raise in the future.\u001b[39m\u001b[33m\"\u001b[39m,\n\u001b[32m   1721\u001b[39m         \u001b[38;5;167;01mFutureWarning\u001b[39;00m,\n\u001b[32m   1722\u001b[39m     )\n\u001b[32m-> \u001b[39m\u001b[32m1724\u001b[39m x = \u001b[38;5;28;43mself\u001b[39;49m\u001b[43m.\u001b[49m\u001b[43mcompute\u001b[49m\u001b[43m(\u001b[49m\u001b[43m)\u001b[49m\n\u001b[32m   1726\u001b[39m \u001b[38;5;66;03m# Apply requested dtype and convert non-numpy backends to numpy.\u001b[39;00m\n\u001b[32m   1727\u001b[39m \u001b[38;5;66;03m# If copy is True, numpy is going to perform its own deep copy\u001b[39;00m\n\u001b[32m   1728\u001b[39m \u001b[38;5;66;03m# after this method returns.\u001b[39;00m\n\u001b[32m   1729\u001b[39m \u001b[38;5;66;03m# If copy is None, finalize() ensures that the returned object\u001b[39;00m\n\u001b[32m   1730\u001b[39m \u001b[38;5;66;03m# does not share memory with an object stored in the graph or on a\u001b[39;00m\n\u001b[32m   1731\u001b[39m \u001b[38;5;66;03m# process-local Worker.\u001b[39;00m\n\u001b[32m   1732\u001b[39m \u001b[38;5;28;01mreturn\u001b[39;00m np.asarray(x, dtype=dtype)\n",
      "\u001b[36mFile \u001b[39m\u001b[32mc:\\Users\\dhaba\\anaconda3\\envs\\cwprs\\Lib\\site-packages\\dask\\base.py:373\u001b[39m, in \u001b[36mDaskMethodsMixin.compute\u001b[39m\u001b[34m(self, **kwargs)\u001b[39m\n\u001b[32m    349\u001b[39m \u001b[38;5;28;01mdef\u001b[39;00m\u001b[38;5;250m \u001b[39m\u001b[34mcompute\u001b[39m(\u001b[38;5;28mself\u001b[39m, **kwargs):\n\u001b[32m    350\u001b[39m \u001b[38;5;250m    \u001b[39m\u001b[33;03m\"\"\"Compute this dask collection\u001b[39;00m\n\u001b[32m    351\u001b[39m \n\u001b[32m    352\u001b[39m \u001b[33;03m    This turns a lazy Dask collection into its in-memory equivalent.\u001b[39;00m\n\u001b[32m   (...)\u001b[39m\u001b[32m    371\u001b[39m \u001b[33;03m    dask.compute\u001b[39;00m\n\u001b[32m    372\u001b[39m \u001b[33;03m    \"\"\"\u001b[39;00m\n\u001b[32m--> \u001b[39m\u001b[32m373\u001b[39m     (result,) = \u001b[43mcompute\u001b[49m\u001b[43m(\u001b[49m\u001b[38;5;28;43mself\u001b[39;49m\u001b[43m,\u001b[49m\u001b[43m \u001b[49m\u001b[43mtraverse\u001b[49m\u001b[43m=\u001b[49m\u001b[38;5;28;43;01mFalse\u001b[39;49;00m\u001b[43m,\u001b[49m\u001b[43m \u001b[49m\u001b[43m*\u001b[49m\u001b[43m*\u001b[49m\u001b[43mkwargs\u001b[49m\u001b[43m)\u001b[49m\n\u001b[32m    374\u001b[39m     \u001b[38;5;28;01mreturn\u001b[39;00m result\n",
      "\u001b[36mFile \u001b[39m\u001b[32mc:\\Users\\dhaba\\anaconda3\\envs\\cwprs\\Lib\\site-packages\\dask\\base.py:681\u001b[39m, in \u001b[36mcompute\u001b[39m\u001b[34m(traverse, optimize_graph, scheduler, get, *args, **kwargs)\u001b[39m\n\u001b[32m    678\u001b[39m     expr = expr.optimize()\n\u001b[32m    679\u001b[39m     keys = \u001b[38;5;28mlist\u001b[39m(flatten(expr.__dask_keys__()))\n\u001b[32m--> \u001b[39m\u001b[32m681\u001b[39m     results = \u001b[43mschedule\u001b[49m\u001b[43m(\u001b[49m\u001b[43mexpr\u001b[49m\u001b[43m,\u001b[49m\u001b[43m \u001b[49m\u001b[43mkeys\u001b[49m\u001b[43m,\u001b[49m\u001b[43m \u001b[49m\u001b[43m*\u001b[49m\u001b[43m*\u001b[49m\u001b[43mkwargs\u001b[49m\u001b[43m)\u001b[49m\n\u001b[32m    683\u001b[39m \u001b[38;5;28;01mreturn\u001b[39;00m repack(results)\n",
      "\u001b[36mFile \u001b[39m\u001b[32mc:\\Users\\dhaba\\anaconda3\\envs\\cwprs\\Lib\\site-packages\\dask\\_task_spec.py:764\u001b[39m, in \u001b[36mTask.__call__\u001b[39m\u001b[34m(self, values)\u001b[39m\n\u001b[32m    762\u001b[39m     kwargs = {k: _eval(kw) \u001b[38;5;28;01mfor\u001b[39;00m k, kw \u001b[38;5;129;01min\u001b[39;00m \u001b[38;5;28mself\u001b[39m.kwargs.items()}\n\u001b[32m    763\u001b[39m     \u001b[38;5;28;01mreturn\u001b[39;00m \u001b[38;5;28mself\u001b[39m.func(*new_argspec, **kwargs)\n\u001b[32m--> \u001b[39m\u001b[32m764\u001b[39m \u001b[38;5;28;01mreturn\u001b[39;00m \u001b[38;5;28;43mself\u001b[39;49m\u001b[43m.\u001b[49m\u001b[43mfunc\u001b[49m\u001b[43m(\u001b[49m\u001b[43m*\u001b[49m\u001b[43mnew_argspec\u001b[49m\u001b[43m)\u001b[49m\n",
      "\u001b[31mMemoryError\u001b[39m: Unable to allocate 314. MiB for an array with shape (20, 3, 785, 875) and data type float64"
     ]
    },
    {
     "data": {
      "image/png": "[encoded data removed]",
      "text/plain": [
       "<Figure size 1600x900 with 1 Axes>"
      ]
     },
     "metadata": {},
     "output_type": "display_data"
    }
   ],
   "source": [
    "# first re-open the original video, extract one RGB frame and plot that\n",
    "video_file = \"ngwerere/ngwerere_20191103.mp4\"\n",
    "\n",
    "video = pyorc.Video(video_file, start_frame=0, end_frame=125)\n",
    "# borrow the camera config from the velocimetry results\n",
    "video.camera_config = ds.velocimetry.camera_config\n",
    "\n",
    "da_rgb = video.get_frames(method=\"rgb\")\n",
    "# project the rgb frame\n",
    "da_rgb_proj = da_rgb.frames.project()\n",
    "# plot the first frame (we only have one) without any arguments, default is to use \"local\" mode\n",
    "p = da_rgb_proj[0].frames.plot()\n",
    "\n",
    "# now plot the results on top, we use the mean, because we cannot plot more than 2 dimensions. \n",
    "# Default plotting method is \"quiver\", but \"scatter\" or \"pcolormesh\" is also possible.\n",
    "# We add a nice colorbar to understand the magnitudes.\n",
    "# We give the existing axis handle of the mappable returned from .frames.plot to plot on, and use \n",
    "# some transparency.\n",
    "ds_mean = ds.mean(dim=\"time\", keep_attrs=True)\n",
    "\n",
    "# first a pcolormesh\n",
    "ds_mean.velocimetry.plot.pcolormesh(\n",
    "    ax=p.axes,\n",
    "    alpha=0.3,\n",
    "    cmap=\"rainbow\",\n",
    "    add_colorbar=True,\n",
    "    vmax=0.6\n",
    ")\n",
    "\n",
    "ds_mean.velocimetry.plot(\n",
    "    ax=p.axes,\n",
    "    color=\"w\",\n",
    "    alpha=0.5,\n",
    ")\n"
   ]
  },
  {
   "cell_type": "markdown",
   "id": "7",
   "metadata": {},
   "source": [
    "### Masking of results\n",
    "Already this looks very promising. But we haven't yet analyzed any of the velocities for spurious values. Even over land we have estimates of velocities, while there is no moving water there. We have a set of temporal masking methods which analyze for spurious values by comparing over time steps, and spatial masking methods, which compare neighbouring grid cell values to flag spurious values. These are defined under a subclass in ``ds.velocimetry.mask``. \n",
    "\n",
    "The mask methods all return a xr.DataArray with the same size as the DataArray variables in the dataset and can be applied in two ways:\n",
    "\n",
    "- first defining several masks, without applying these on the dataset, and then collectively apply them. This is the default behaviour. Masks can be collectively applied with ``ds.velocimetry.mask([mask1, mask2, mask3, ...])``.\n",
    "- apply the mask immediately on the dataset (use ``inplace=True`` on each mask method).\n",
    "\n",
    "In the last case, you should be aware that applying another mask method after having applied other mask methods makes the results conditional on masks already applied. Therefore in this case the order in which you apply masks will change the results. For instance, if you first mask out velocities that are outside a minimum / maximum velocity range using ``ds.velocimetry.mask.minmax``, and only after that mask out based on variance in time (points with a high variance can be masked), the computed variance over time for each location will likely already be lower, because you may have excluded outlier velocities. The method ``ds.velocimetrry.mask.count`` simply counts how many values are found per grid cell, relative to the total amount of time steps available. This method typically requires that you first apply a set of other mask methods, before being applied.\n",
    "\n",
    "Below, we decided to apply masks in a certain order, and conditional on each other. We start with masks that can typically be applied on individual values, such as the ``minmax`` and ``corr``. And then gradually move to masks that require analysis of all values in time, such as the ``variance`` method and (see above) the ``count`` method. This is typically the good practice.\n"
   ]
  },
  {
   "cell_type": "code",
   "execution_count": null,
   "id": "8",
   "metadata": {},
   "outputs": [],
   "source": [
    "import copy\n",
    "ds_mask = copy.deepcopy(ds)\n",
    "mask_corr = ds_mask.velocimetry.mask.corr(inplace=True)\n",
    "mask_minmax = ds_mask.velocimetry.mask.minmax(inplace=True)\n",
    "mask_rolling = ds_mask.velocimetry.mask.rolling(inplace=True)\n",
    "mask_outliers = ds_mask.velocimetry.mask.outliers(inplace=True)\n",
    "mask_var = ds_mask.velocimetry.mask.variance(inplace=True)\n",
    "mask_angle = ds_mask.velocimetry.mask.angle(inplace=True)\n",
    "mask_count = ds_mask.velocimetry.mask.count(inplace=True)\n",
    "\n",
    "\n",
    "# apply the plot again, let's leave out the scalar values, and make the quivers a bit nicer than before.\n",
    "ds_mean_mask = ds_mask.mean(dim=\"time\", keep_attrs=True)\n",
    "\n",
    "\n",
    "# again the rgb frame first\n",
    "p = da_rgb_proj[0].frames.plot()\n",
    "\n",
    "#...and then masked velocimetry\n",
    "ds_mean_mask.velocimetry.plot(\n",
    "    ax=p.axes,\n",
    "    alpha=0.4,\n",
    "    norm=Normalize(vmax=0.6, clip=False),\n",
    "    add_colorbar=True\n",
    ")\n"
   ]
  },
  {
   "cell_type": "markdown",
   "id": "9",
   "metadata": {},
   "source": [
    "Interesting! We see that the velocities become a lot higher on average. Most likely because many spurious velocities are removed. We also see that the velocities seem to be more left-to-right oriented. In part this may be because we applied the `.mask.angle` method. This mask removes velocities that are in a direction, far off from the expected flow direction. The default direction of this mask is always left to right. Therefore take good care of this mask, if you decide to e.g. apply `pyorc` in a bottom to top direction.\n",
    "\n",
    "As this stream is very shallow and has lots of obstructions like rocks that the water goes around, the application of this mask may have removed many velocities that were actually correct. Let's do the masking again, but relaxing the tolerance of the angle mask.\n",
    "\n",
    "Besides this, we can also apply a number of spatial masks. It is often logical to apply these on the mean of the dataset in time. This can be done by adding the ``reduce_time`` flag. Note that ``reduce_time`` can in principle also be used on any other mask that does not per se require ``time`` as a dimension. The spatial mask we demonstrate here compares the value under consideration against a window mean around that location. If the window mean (after reducing the ``time`` dimension with a mean) is very different, the value at that location will be excluded.\n"
   ]
  },
  {
   "cell_type": "code",
   "execution_count": null,
   "id": "10",
   "metadata": {},
   "outputs": [],
   "source": [
    "# apply all methods in time domain with relaxed angle masking\n",
    "import numpy as np\n",
    "ds_mask2 = copy.deepcopy(ds)\n",
    "ds_mask2.velocimetry.mask.corr(inplace=True)\n",
    "ds_mask2.velocimetry.mask.minmax(inplace=True)\n",
    "ds_mask2.velocimetry.mask.rolling(inplace=True)\n",
    "ds_mask2.velocimetry.mask.outliers(inplace=True)\n",
    "ds_mask2.velocimetry.mask.variance(inplace=True)\n",
    "ds_mask2.velocimetry.mask.angle(angle_tolerance=0.5*np.pi)\n",
    "ds_mask2.velocimetry.mask.count(inplace=True)\n",
    "ds_mask2.velocimetry.mask.window_mean(wdw=2, inplace=True, tolerance=0.5, reduce_time=True)\n",
    "\n",
    "# Now first average in time before applying any filter that only works in space.\n",
    "ds_mean_mask2 = ds_mask2.mean(dim=\"time\", keep_attrs=True)\n",
    "\n",
    "# apply the plot again\n",
    "# again the rgb frame first\n",
    "p = da_rgb_proj[0].frames.plot()\n",
    "\n",
    "#...and then filtered velocimetry\n",
    "ds_mean_mask2.velocimetry.plot(\n",
    "    ax=p.axes,\n",
    "    alpha=0.4,\n",
    "    norm=Normalize(vmax=0.6, clip=False),\n",
    "    add_colorbar=True\n",
    ")\n"
   ]
  },
  {
   "cell_type": "markdown",
   "id": "11",
   "metadata": {},
   "source": [
    "It looks more natural. Check for instance the pattern around the rock on the left side. Now we can also plot in a geographical view."
   ]
  },
  {
   "cell_type": "code",
   "execution_count": null,
   "id": "12",
   "metadata": {},
   "outputs": [],
   "source": [
    "# again the rgb frame first. But now we use the \"geographical\" mode to plot on a map\n",
    "p = da_rgb_proj[0].frames.plot(mode=\"geographical\")\n",
    "\n",
    "#...and then masked velocimetry again, but also geographical\n",
    "ds_mean_mask2.velocimetry.plot(\n",
    "    ax=p.axes,\n",
    "    mode=\"geographical\",\n",
    "    alpha=0.4,\n",
    "    norm=Normalize(vmax=0.6, clip=False),\n",
    "    add_colorbar=True\n",
    ")\n",
    "\n",
    "# for fun, let's also add a satellite background from cartopy\n",
    "import cartopy.io.img_tiles as cimgt\n",
    "import cartopy.crs as ccrs\n",
    "tiles = cimgt.GoogleTiles(style=\"satellite\")\n",
    "p.axes.add_image(tiles, 19)\n",
    "# zoom out a little bit so that we can actually see a bit\n",
    "p.axes.set_extent([\n",
    "    da_rgb_proj.lon.min() - 0.00005,\n",
    "    da_rgb_proj.lon.max() + 0.00005,\n",
    "    da_rgb_proj.lat.min() - 0.00005,\n",
    "    da_rgb_proj.lat.max() + 0.00005],\n",
    "    crs=ccrs.PlateCarree()\n",
    ")\n"
   ]
  },
  {
   "cell_type": "markdown",
   "id": "13",
   "metadata": {},
   "source": [
    "### Immersive and intuitive augmented reality\n",
    "And now the most beautiful plot you can make with pyorc: an augmented reality view. For this, we need an unprojected rgb frame and supply the `mode=\"camera\"` keyword argument."
   ]
  },
  {
   "cell_type": "code",
   "execution_count": null,
   "id": "14",
   "metadata": {},
   "outputs": [],
   "source": [
    "# again the rgb frame first, but now the unprojected one. Now we use the \"camera\" mode to plot the camera perspective\n",
    "p = da_rgb[0].frames.plot(mode=\"camera\")\n",
    "\n",
    "#...and then masked velocimetry again, but also camera. This gives us an augmented reality view. The quiver scale \n",
    "# needs to be adapted to fit in the screen properly\n",
    "ds_mean_mask.velocimetry.plot(\n",
    "    ax=p.axes,\n",
    "    mode=\"camera\",\n",
    "    alpha=0.4,\n",
    "    norm=Normalize(vmin=0., vmax=0.6, clip=False),\n",
    "    add_colorbar=True\n",
    ")\n"
   ]
  },
  {
   "cell_type": "markdown",
   "id": "15",
   "metadata": {},
   "source": [
    "### Store the final masked results\n",
    "Let's also store the masked velocities in a separate file. To ensure it remains really small, we can use the `.set_encoding` method first, to ensure the variables are encoded to integer values before storing. This makes the file nice and small."
   ]
  },
  {
   "cell_type": "code",
   "execution_count": null,
   "id": "16",
   "metadata": {},
   "outputs": [],
   "source": [
    "ds_mask2.velocimetry.set_encoding()\n",
    "ds_mask2.to_netcdf(\"ngwerere_masked.nc\")"
   ]
  }
 ],
 "metadata": {
  "kernelspec": {
   "display_name": "cwprs",
   "language": "python",
   "name": "python3"
  },
  "language_info": {
   "codemirror_mode": {
    "name": "ipython",
    "version": 3
   },
   "file_extension": ".py",
   "mimetype": "text/x-python",
   "name": "python",
   "nbconvert_exporter": "python",
   "pygments_lexer": "ipython3",
   "version": "3.11.13"
  }
 },
 "nbformat": 4,
 "nbformat_minor": 5
}
